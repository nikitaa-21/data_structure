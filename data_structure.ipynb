{
 "cells": [
  {
   "cell_type": "code",
   "execution_count": null,
   "id": "b6b01827-fd41-4157-9e4c-205e64316958",
   "metadata": {},
   "outputs": [],
   "source": [
    "\"\"\" 1.Discuss string slicing and provide examples\n",
    "In Python slicing is about obtaining a sub-string from the given string"
   ]
  },
  {
   "cell_type": "code",
   "execution_count": 2,
   "id": "93ddb4da-261f-42c2-abea-aad8b7889d14",
   "metadata": {},
   "outputs": [
    {
     "data": {
      "text/plain": [
       "'Data structure'"
      ]
     },
     "execution_count": 2,
     "metadata": {},
     "output_type": "execute_result"
    }
   ],
   "source": [
    "s=\"Data structure\"  #created a string\n",
    "s"
   ]
  },
  {
   "cell_type": "code",
   "execution_count": 3,
   "id": "448f20d7-732b-449c-a875-8445de1daf8f",
   "metadata": {},
   "outputs": [
    {
     "data": {
      "text/plain": [
       "'D'"
      ]
     },
     "execution_count": 3,
     "metadata": {},
     "output_type": "execute_result"
    }
   ],
   "source": [
    "s[0]"
   ]
  },
  {
   "cell_type": "code",
   "execution_count": 4,
   "id": "e17641fc-af45-4595-ad02-341de726440b",
   "metadata": {},
   "outputs": [
    {
     "data": {
      "text/plain": [
       "'ata st'"
      ]
     },
     "execution_count": 4,
     "metadata": {},
     "output_type": "execute_result"
    }
   ],
   "source": [
    "s[1:7]   #extracted substring using slicing"
   ]
  },
  {
   "cell_type": "code",
   "execution_count": null,
   "id": "2fb20f16-0f17-4ed4-a16f-e3f09ba79341",
   "metadata": {},
   "outputs": [],
   "source": [
    "\"\"\"2. Explain the key features of lists in Python\n",
    "List are ordered collection of elements\n",
    "They are mutable\n",
    "They have heterogenous data "
   ]
  },
  {
   "cell_type": "code",
   "execution_count": 6,
   "id": "0ce22a89-c799-4fc0-809c-c4923ff6c164",
   "metadata": {},
   "outputs": [
    {
     "data": {
      "text/plain": [
       "[4, 5, 7, 3, 4, 5]"
      ]
     },
     "execution_count": 6,
     "metadata": {},
     "output_type": "execute_result"
    }
   ],
   "source": [
    "#example of list\n",
    "lis=[4,5,7,3,4,5]\n",
    "lis"
   ]
  },
  {
   "cell_type": "code",
   "execution_count": 7,
   "id": "622f45fc-1b0e-40d6-8a56-0f56760fe144",
   "metadata": {},
   "outputs": [
    {
     "data": {
      "text/plain": [
       "list"
      ]
     },
     "execution_count": 7,
     "metadata": {},
     "output_type": "execute_result"
    }
   ],
   "source": [
    "type(lis)"
   ]
  },
  {
   "cell_type": "code",
   "execution_count": null,
   "id": "bbd5b04c-c381-4dc8-aa41-a869c1750729",
   "metadata": {},
   "outputs": [],
   "source": [
    "\"\"\"3.Describe how to access modify and delete elements in a list with examples"
   ]
  },
  {
   "cell_type": "code",
   "execution_count": 8,
   "id": "20e0e73e-ece9-4112-9a40-bbdf9fe4f473",
   "metadata": {},
   "outputs": [
    {
     "data": {
      "text/plain": [
       "[7, 4, 8, 5, 3, 6, 9]"
      ]
     },
     "execution_count": 8,
     "metadata": {},
     "output_type": "execute_result"
    }
   ],
   "source": [
    "l=[7,4,8,5,3,6,9]\n",
    "l"
   ]
  },
  {
   "cell_type": "code",
   "execution_count": 9,
   "id": "f7e4ae93-8883-499d-abaa-254cc2cce3e4",
   "metadata": {},
   "outputs": [
    {
     "data": {
      "text/plain": [
       "5"
      ]
     },
     "execution_count": 9,
     "metadata": {},
     "output_type": "execute_result"
    }
   ],
   "source": [
    "#to access element\n",
    "l[3]"
   ]
  },
  {
   "cell_type": "code",
   "execution_count": 11,
   "id": "480dedcd-d40b-4a1f-b548-03d9cb403191",
   "metadata": {},
   "outputs": [
    {
     "data": {
      "text/plain": [
       "[7, 4, 1, 5, 3, 6, 9]"
      ]
     },
     "execution_count": 11,
     "metadata": {},
     "output_type": "execute_result"
    }
   ],
   "source": [
    "#to modify element\n",
    "l[2]=1       #replaced 2nd value with 1\n",
    "l"
   ]
  },
  {
   "cell_type": "code",
   "execution_count": 12,
   "id": "5bd0bf31-a813-4309-a97c-1171eddb3aaa",
   "metadata": {},
   "outputs": [
    {
     "data": {
      "text/plain": [
       "[7, 4, 1, 5, 3, 9]"
      ]
     },
     "execution_count": 12,
     "metadata": {},
     "output_type": "execute_result"
    }
   ],
   "source": [
    "#to delete elements\n",
    "l.pop(5)      #deleted 5th element\n",
    "l"
   ]
  },
  {
   "cell_type": "code",
   "execution_count": 13,
   "id": "ee8dc649-d028-4a02-8a4e-a1bd4998c979",
   "metadata": {},
   "outputs": [
    {
     "data": {
      "text/plain": [
       "[]"
      ]
     },
     "execution_count": 13,
     "metadata": {},
     "output_type": "execute_result"
    }
   ],
   "source": [
    "l.clear()     #to delete all elements\n",
    "l"
   ]
  },
  {
   "cell_type": "code",
   "execution_count": null,
   "id": "e19e8dd1-e418-4c33-8ee5-d0892cb70d0e",
   "metadata": {},
   "outputs": [],
   "source": [
    "\"\"\"4.Compare and contrast tuples and lists with examples\n",
    "List are mutable and tuples are immutable"
   ]
  },
  {
   "cell_type": "code",
   "execution_count": 14,
   "id": "8b7d18d1-d05b-472f-a09f-f70d76766ae0",
   "metadata": {},
   "outputs": [
    {
     "data": {
      "text/plain": [
       "[4, 7, 2, 5, 6]"
      ]
     },
     "execution_count": 14,
     "metadata": {},
     "output_type": "execute_result"
    }
   ],
   "source": [
    "#example of list\n",
    "l=[4,7,2,5,6]\n",
    "l"
   ]
  },
  {
   "cell_type": "code",
   "execution_count": 15,
   "id": "e3cab527-242d-487c-8e96-f1241cbb9392",
   "metadata": {},
   "outputs": [
    {
     "data": {
      "text/plain": [
       "[4, 7, 2, 5, 9]"
      ]
     },
     "execution_count": 15,
     "metadata": {},
     "output_type": "execute_result"
    }
   ],
   "source": [
    "l[4]=9   #list modification\n",
    "l"
   ]
  },
  {
   "cell_type": "code",
   "execution_count": 16,
   "id": "e6cd4901-0da4-4e7e-9407-0f3dc027c495",
   "metadata": {},
   "outputs": [
    {
     "data": {
      "text/plain": [
       "(3, 5, 4, 6, 7)"
      ]
     },
     "execution_count": 16,
     "metadata": {},
     "output_type": "execute_result"
    }
   ],
   "source": [
    "#exqample of tuple\n",
    "t=(3,5,4,6,7)\n",
    "t"
   ]
  },
  {
   "cell_type": "code",
   "execution_count": 17,
   "id": "940018a1-2486-4497-bc75-d5525bf2a389",
   "metadata": {},
   "outputs": [
    {
     "data": {
      "text/plain": [
       "tuple"
      ]
     },
     "execution_count": 17,
     "metadata": {},
     "output_type": "execute_result"
    }
   ],
   "source": [
    "type(t)"
   ]
  },
  {
   "cell_type": "code",
   "execution_count": 18,
   "id": "33ac631e-8227-48e5-a651-5c015b2f9105",
   "metadata": {},
   "outputs": [
    {
     "ename": "TypeError",
     "evalue": "'tuple' object does not support item assignment",
     "output_type": "error",
     "traceback": [
      "\u001b[0;31m---------------------------------------------------------------------------\u001b[0m",
      "\u001b[0;31mTypeError\u001b[0m                                 Traceback (most recent call last)",
      "Cell \u001b[0;32mIn[18], line 1\u001b[0m\n\u001b[0;32m----> 1\u001b[0m \u001b[43mt\u001b[49m\u001b[43m[\u001b[49m\u001b[38;5;241;43m4\u001b[39;49m\u001b[43m]\u001b[49m\u001b[38;5;241m=\u001b[39m\u001b[38;5;241m1\u001b[39m\n\u001b[1;32m      2\u001b[0m t\n",
      "\u001b[0;31mTypeError\u001b[0m: 'tuple' object does not support item assignment"
     ]
    }
   ],
   "source": [
    "t[4]=1  #tuple cannot be modified like list\n",
    "t"
   ]
  },
  {
   "cell_type": "code",
   "execution_count": null,
   "id": "403eca80-d906-4afd-8e96-f59c29f327dd",
   "metadata": {},
   "outputs": [],
   "source": [
    "\"\"\"5. Describe the key features of sets and provide examples of their use\n",
    "Set is unordered collection of unique elements\n",
    "Set is mutable"
   ]
  },
  {
   "cell_type": "code",
   "execution_count": 19,
   "id": "72be6e59-e29c-4676-ae26-d7436d10ca36",
   "metadata": {},
   "outputs": [
    {
     "data": {
      "text/plain": [
       "set"
      ]
     },
     "execution_count": 19,
     "metadata": {},
     "output_type": "execute_result"
    }
   ],
   "source": [
    "#example of set \n",
    "s={6,4,6,7,5,9}\n",
    "type(s)"
   ]
  },
  {
   "cell_type": "code",
   "execution_count": 21,
   "id": "a0d8494a-94a3-4e69-9e7b-e8d56025e7b8",
   "metadata": {},
   "outputs": [
    {
     "data": {
      "text/plain": [
       "5"
      ]
     },
     "execution_count": 21,
     "metadata": {},
     "output_type": "execute_result"
    }
   ],
   "source": [
    "len(s)    #length of set"
   ]
  },
  {
   "cell_type": "code",
   "execution_count": 22,
   "id": "d40eb0f1-d271-4b75-9e19-e3c2ea7c96d2",
   "metadata": {},
   "outputs": [
    {
     "data": {
      "text/plain": [
       "{1, 4, 5, 6, 7, 9}"
      ]
     },
     "execution_count": 22,
     "metadata": {},
     "output_type": "execute_result"
    }
   ],
   "source": [
    "s.add(1)     #added element\n",
    "s"
   ]
  },
  {
   "cell_type": "code",
   "execution_count": 23,
   "id": "b7371d71-3b8a-4010-8823-c2cbe2e3a669",
   "metadata": {},
   "outputs": [
    {
     "data": {
      "text/plain": [
       "{4, 5, 6, 7, 9}"
      ]
     },
     "execution_count": 23,
     "metadata": {},
     "output_type": "execute_result"
    }
   ],
   "source": [
    "s.pop()    #removes random element\n",
    "s"
   ]
  },
  {
   "cell_type": "code",
   "execution_count": null,
   "id": "da8d69ac-c188-4820-a323-c3d1d0eb0649",
   "metadata": {},
   "outputs": [],
   "source": [
    "\"\"\"6. Discuss the use cases of tuples and sets in Python programming"
   ]
  },
  {
   "cell_type": "code",
   "execution_count": 24,
   "id": "1d6fe011-d5bf-4e6e-8474-fa9eb3cf2aa2",
   "metadata": {},
   "outputs": [
    {
     "data": {
      "text/plain": [
       "(4, 6, 8, 4, 7, 8)"
      ]
     },
     "execution_count": 24,
     "metadata": {},
     "output_type": "execute_result"
    }
   ],
   "source": [
    "#tuple\n",
    "t=(4,6,8,4,7,8)\n",
    "t"
   ]
  },
  {
   "cell_type": "code",
   "execution_count": 25,
   "id": "299f5a2e-d156-4162-a022-dfdef47f8d6b",
   "metadata": {},
   "outputs": [
    {
     "data": {
      "text/plain": [
       "8"
      ]
     },
     "execution_count": 25,
     "metadata": {},
     "output_type": "execute_result"
    }
   ],
   "source": [
    "max(t)"
   ]
  },
  {
   "cell_type": "code",
   "execution_count": 26,
   "id": "a4414ec5-48b1-4bb0-844a-e16e864a3460",
   "metadata": {},
   "outputs": [
    {
     "data": {
      "text/plain": [
       "6"
      ]
     },
     "execution_count": 26,
     "metadata": {},
     "output_type": "execute_result"
    }
   ],
   "source": [
    "len(t)"
   ]
  },
  {
   "cell_type": "code",
   "execution_count": 27,
   "id": "9f8e34de-1884-40ee-9947-01a613366531",
   "metadata": {},
   "outputs": [
    {
     "data": {
      "text/plain": [
       "{1, 4, 6, 7, 8, 9}"
      ]
     },
     "execution_count": 27,
     "metadata": {},
     "output_type": "execute_result"
    }
   ],
   "source": [
    "#set\n",
    "s={4,7,8,9,1,6}\n",
    "s"
   ]
  },
  {
   "cell_type": "code",
   "execution_count": 28,
   "id": "6cc49b9d-dbb6-4106-8781-6e5ee57f7194",
   "metadata": {},
   "outputs": [
    {
     "data": {
      "text/plain": [
       "{1, 4, 6, 7, 9}"
      ]
     },
     "execution_count": 28,
     "metadata": {},
     "output_type": "execute_result"
    }
   ],
   "source": [
    "s.remove(8)\n",
    "s"
   ]
  },
  {
   "cell_type": "code",
   "execution_count": 30,
   "id": "5c3b6b6d-0c82-4ec6-9b43-3c512c5d9137",
   "metadata": {},
   "outputs": [
    {
     "data": {
      "text/plain": [
       "{1, 2, 4, 6, 7, 9}"
      ]
     },
     "execution_count": 30,
     "metadata": {},
     "output_type": "execute_result"
    }
   ],
   "source": [
    "s.add(2)\n",
    "s"
   ]
  },
  {
   "cell_type": "code",
   "execution_count": 31,
   "id": "07b2d138-135c-4ca9-9029-33939cbc8a91",
   "metadata": {},
   "outputs": [
    {
     "data": {
      "text/plain": [
       "set()"
      ]
     },
     "execution_count": 31,
     "metadata": {},
     "output_type": "execute_result"
    }
   ],
   "source": [
    "s.clear()\n",
    "s"
   ]
  },
  {
   "cell_type": "code",
   "execution_count": null,
   "id": "3bef30de-9f21-43ef-a930-ac83d612c600",
   "metadata": {},
   "outputs": [],
   "source": [
    "\"\"\"7 Describe how to add modify and delete items in a dictionary with examples"
   ]
  },
  {
   "cell_type": "code",
   "execution_count": 32,
   "id": "5e724e6e-d717-4a76-89c1-afe79b38b3b9",
   "metadata": {},
   "outputs": [
    {
     "data": {
      "text/plain": [
       "{'name': 'nikita', 'email': 'n@.com', 'contact': '123'}"
      ]
     },
     "execution_count": 32,
     "metadata": {},
     "output_type": "execute_result"
    }
   ],
   "source": [
    "d={'name':'nikita', 'email':'n@.com','contact':'123'}\n",
    "d"
   ]
  },
  {
   "cell_type": "code",
   "execution_count": 33,
   "id": "6b7cc2e0-130a-4ffa-8a9c-2cfad19d399e",
   "metadata": {},
   "outputs": [
    {
     "data": {
      "text/plain": [
       "dict"
      ]
     },
     "execution_count": 33,
     "metadata": {},
     "output_type": "execute_result"
    }
   ],
   "source": [
    "type(d)"
   ]
  },
  {
   "cell_type": "code",
   "execution_count": 34,
   "id": "bb74f9a0-14d5-4c44-9114-1c6014faf1a3",
   "metadata": {},
   "outputs": [
    {
     "data": {
      "text/plain": [
       "{'name': 'nikita', 'email': 'n@.com', 'contact': '123', 'gender': 'female'}"
      ]
     },
     "execution_count": 34,
     "metadata": {},
     "output_type": "execute_result"
    }
   ],
   "source": [
    "d['gender']='female'    #added gender\n",
    "d"
   ]
  },
  {
   "cell_type": "code",
   "execution_count": 35,
   "id": "b45015e3-20cb-46bc-bd26-8790e29f444e",
   "metadata": {},
   "outputs": [
    {
     "data": {
      "text/plain": [
       "{'name': 'nikita', 'email': 'n@.com', 'contact': '456'}"
      ]
     },
     "execution_count": 35,
     "metadata": {},
     "output_type": "execute_result"
    }
   ],
   "source": [
    "d={'name':'nikita', 'email':'n@.com','contact':'123', 'contact':'456'}     #contact changed\n",
    "d "
   ]
  },
  {
   "cell_type": "code",
   "execution_count": 36,
   "id": "d74088df-08f4-4970-aefd-392a9a9e0cc3",
   "metadata": {},
   "outputs": [
    {
     "data": {
      "text/plain": [
       "{'name': 'nikita', 'contact': '456'}"
      ]
     },
     "execution_count": 36,
     "metadata": {},
     "output_type": "execute_result"
    }
   ],
   "source": [
    "del d['email']   #deleted email\n",
    "d"
   ]
  },
  {
   "cell_type": "code",
   "execution_count": null,
   "id": "de6220d5-a02e-48ce-9a0f-6379cc4b7011",
   "metadata": {},
   "outputs": [],
   "source": [
    "\"\"\"8  Discuss the importance of dictionary keys being immutable and provide examples\n",
    "Keys are immutable which help in consistent and predictable behavior when accessing dictionary elements"
   ]
  },
  {
   "cell_type": "code",
   "execution_count": 37,
   "id": "fe0650c1-3a85-4ba0-ad43-d522dd7dab06",
   "metadata": {},
   "outputs": [
    {
     "data": {
      "text/plain": [
       "{'name': 'Alice', 'age': 25}"
      ]
     },
     "execution_count": 37,
     "metadata": {},
     "output_type": "execute_result"
    }
   ],
   "source": [
    "d = {'name': 'Alice', 'age': 25}\n",
    "d"
   ]
  },
  {
   "cell_type": "code",
   "execution_count": 38,
   "id": "1de5a1f2-6328-4f52-a54e-db56e110ccdd",
   "metadata": {},
   "outputs": [
    {
     "data": {
      "text/plain": [
       "{1: 'one', 2: 'two'}"
      ]
     },
     "execution_count": 38,
     "metadata": {},
     "output_type": "execute_result"
    }
   ],
   "source": [
    "d2= {1: 'one', 2: 'two'}\n",
    "d2"
   ]
  },
  {
   "cell_type": "code",
   "execution_count": null,
   "id": "464a9209-2000-4344-a758-a9ee3111d714",
   "metadata": {},
   "outputs": [],
   "source": []
  }
 ],
 "metadata": {
  "kernelspec": {
   "display_name": "Python 3 (ipykernel)",
   "language": "python",
   "name": "python3"
  },
  "language_info": {
   "codemirror_mode": {
    "name": "ipython",
    "version": 3
   },
   "file_extension": ".py",
   "mimetype": "text/x-python",
   "name": "python",
   "nbconvert_exporter": "python",
   "pygments_lexer": "ipython3",
   "version": "3.10.8"
  }
 },
 "nbformat": 4,
 "nbformat_minor": 5
}
